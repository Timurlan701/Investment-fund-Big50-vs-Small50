{
 "cells": [
  {
   "cell_type": "markdown",
   "id": "b8b357b8",
   "metadata": {},
   "source": [
    "## Investment fund Big50 vs Small50"
   ]
  },
  {
   "cell_type": "markdown",
   "id": "0b09605d",
   "metadata": {},
   "source": [
    "1. The brief report contains an analysis of 215 funds, which show for each fund their assets under management AUM (billion dollars), the most recent annual return (%) and the distribution of shares across eight market sectors - consumer, financial, industrial, healthcare, utilities, f & b, energy and technology."
   ]
  },
  {
   "cell_type": "markdown",
   "id": "5f26a18e",
   "metadata": {},
   "source": [
    "Table 1 Original Data 215 investment funds"
   ]
  },
  {
   "cell_type": "code",
   "execution_count": 1,
   "id": "02cc8724",
   "metadata": {
    "hide_input": true
   },
   "outputs": [],
   "source": [
    "import pandas as pd\n",
    "import statistics as stats\n",
    "import matplotlib.pyplot as plt\n",
    "import squarify"
   ]
  },
  {
   "cell_type": "code",
   "execution_count": 2,
   "id": "08cae89c",
   "metadata": {
    "hide_input": true
   },
   "outputs": [
    {
     "data": {
      "text/html": [
       "<div>\n",
       "<style scoped>\n",
       "    .dataframe tbody tr th:only-of-type {\n",
       "        vertical-align: middle;\n",
       "    }\n",
       "\n",
       "    .dataframe tbody tr th {\n",
       "        vertical-align: top;\n",
       "    }\n",
       "\n",
       "    .dataframe thead th {\n",
       "        text-align: right;\n",
       "    }\n",
       "</style>\n",
       "<table border=\"1\" class=\"dataframe\">\n",
       "  <thead>\n",
       "    <tr style=\"text-align: right;\">\n",
       "      <th></th>\n",
       "      <th>SIZE</th>\n",
       "      <th>Return</th>\n",
       "      <th>consumer</th>\n",
       "      <th>financial</th>\n",
       "      <th>industrials</th>\n",
       "      <th>healthcare</th>\n",
       "      <th>utilities</th>\n",
       "      <th>f &amp; b</th>\n",
       "      <th>energy</th>\n",
       "      <th>technology</th>\n",
       "    </tr>\n",
       "  </thead>\n",
       "  <tbody>\n",
       "    <tr>\n",
       "      <th>0</th>\n",
       "      <td>25.18</td>\n",
       "      <td>8.80</td>\n",
       "      <td>13.93</td>\n",
       "      <td>23.45</td>\n",
       "      <td>11.32</td>\n",
       "      <td>13.88</td>\n",
       "      <td>13.29</td>\n",
       "      <td>3.83</td>\n",
       "      <td>12.25</td>\n",
       "      <td>8.05</td>\n",
       "    </tr>\n",
       "    <tr>\n",
       "      <th>1</th>\n",
       "      <td>24.11</td>\n",
       "      <td>4.66</td>\n",
       "      <td>13.15</td>\n",
       "      <td>21.98</td>\n",
       "      <td>9.74</td>\n",
       "      <td>13.49</td>\n",
       "      <td>15.92</td>\n",
       "      <td>4.83</td>\n",
       "      <td>10.55</td>\n",
       "      <td>10.34</td>\n",
       "    </tr>\n",
       "    <tr>\n",
       "      <th>2</th>\n",
       "      <td>23.60</td>\n",
       "      <td>-0.49</td>\n",
       "      <td>17.98</td>\n",
       "      <td>11.15</td>\n",
       "      <td>10.68</td>\n",
       "      <td>15.64</td>\n",
       "      <td>12.12</td>\n",
       "      <td>3.63</td>\n",
       "      <td>8.93</td>\n",
       "      <td>19.87</td>\n",
       "    </tr>\n",
       "    <tr>\n",
       "      <th>3</th>\n",
       "      <td>23.57</td>\n",
       "      <td>5.78</td>\n",
       "      <td>17.50</td>\n",
       "      <td>12.24</td>\n",
       "      <td>10.16</td>\n",
       "      <td>14.22</td>\n",
       "      <td>8.13</td>\n",
       "      <td>3.19</td>\n",
       "      <td>12.47</td>\n",
       "      <td>22.09</td>\n",
       "    </tr>\n",
       "    <tr>\n",
       "      <th>4</th>\n",
       "      <td>23.18</td>\n",
       "      <td>5.59</td>\n",
       "      <td>18.99</td>\n",
       "      <td>15.66</td>\n",
       "      <td>11.75</td>\n",
       "      <td>11.89</td>\n",
       "      <td>9.01</td>\n",
       "      <td>3.41</td>\n",
       "      <td>11.49</td>\n",
       "      <td>17.80</td>\n",
       "    </tr>\n",
       "    <tr>\n",
       "      <th>...</th>\n",
       "      <td>...</td>\n",
       "      <td>...</td>\n",
       "      <td>...</td>\n",
       "      <td>...</td>\n",
       "      <td>...</td>\n",
       "      <td>...</td>\n",
       "      <td>...</td>\n",
       "      <td>...</td>\n",
       "      <td>...</td>\n",
       "      <td>...</td>\n",
       "    </tr>\n",
       "    <tr>\n",
       "      <th>210</th>\n",
       "      <td>4.15</td>\n",
       "      <td>-5.45</td>\n",
       "      <td>16.24</td>\n",
       "      <td>13.81</td>\n",
       "      <td>10.03</td>\n",
       "      <td>14.79</td>\n",
       "      <td>8.67</td>\n",
       "      <td>3.50</td>\n",
       "      <td>10.56</td>\n",
       "      <td>22.40</td>\n",
       "    </tr>\n",
       "    <tr>\n",
       "      <th>211</th>\n",
       "      <td>4.13</td>\n",
       "      <td>-1.07</td>\n",
       "      <td>19.00</td>\n",
       "      <td>15.67</td>\n",
       "      <td>11.75</td>\n",
       "      <td>11.88</td>\n",
       "      <td>9.01</td>\n",
       "      <td>3.41</td>\n",
       "      <td>11.49</td>\n",
       "      <td>17.79</td>\n",
       "    </tr>\n",
       "    <tr>\n",
       "      <th>212</th>\n",
       "      <td>4.12</td>\n",
       "      <td>3.34</td>\n",
       "      <td>15.39</td>\n",
       "      <td>12.67</td>\n",
       "      <td>0.00</td>\n",
       "      <td>22.52</td>\n",
       "      <td>0.00</td>\n",
       "      <td>0.00</td>\n",
       "      <td>6.29</td>\n",
       "      <td>43.13</td>\n",
       "    </tr>\n",
       "    <tr>\n",
       "      <th>213</th>\n",
       "      <td>4.09</td>\n",
       "      <td>3.98</td>\n",
       "      <td>18.14</td>\n",
       "      <td>15.48</td>\n",
       "      <td>8.99</td>\n",
       "      <td>15.07</td>\n",
       "      <td>8.90</td>\n",
       "      <td>2.94</td>\n",
       "      <td>9.17</td>\n",
       "      <td>21.31</td>\n",
       "    </tr>\n",
       "    <tr>\n",
       "      <th>214</th>\n",
       "      <td>4.07</td>\n",
       "      <td>5.07</td>\n",
       "      <td>34.63</td>\n",
       "      <td>14.67</td>\n",
       "      <td>9.92</td>\n",
       "      <td>5.88</td>\n",
       "      <td>0.44</td>\n",
       "      <td>0.00</td>\n",
       "      <td>19.07</td>\n",
       "      <td>15.39</td>\n",
       "    </tr>\n",
       "  </tbody>\n",
       "</table>\n",
       "<p>215 rows × 10 columns</p>\n",
       "</div>"
      ],
      "text/plain": [
       "      SIZE  Return  consumer  financial  industrials  healthcare  utilities  \\\n",
       "0    25.18    8.80     13.93      23.45        11.32       13.88      13.29   \n",
       "1    24.11    4.66     13.15      21.98         9.74       13.49      15.92   \n",
       "2    23.60   -0.49     17.98      11.15        10.68       15.64      12.12   \n",
       "3    23.57    5.78     17.50      12.24        10.16       14.22       8.13   \n",
       "4    23.18    5.59     18.99      15.66        11.75       11.89       9.01   \n",
       "..     ...     ...       ...        ...          ...         ...        ...   \n",
       "210   4.15   -5.45     16.24      13.81        10.03       14.79       8.67   \n",
       "211   4.13   -1.07     19.00      15.67        11.75       11.88       9.01   \n",
       "212   4.12    3.34     15.39      12.67         0.00       22.52       0.00   \n",
       "213   4.09    3.98     18.14      15.48         8.99       15.07       8.90   \n",
       "214   4.07    5.07     34.63      14.67         9.92        5.88       0.44   \n",
       "\n",
       "     f & b  energy  technology  \n",
       "0     3.83   12.25        8.05  \n",
       "1     4.83   10.55       10.34  \n",
       "2     3.63    8.93       19.87  \n",
       "3     3.19   12.47       22.09  \n",
       "4     3.41   11.49       17.80  \n",
       "..     ...     ...         ...  \n",
       "210   3.50   10.56       22.40  \n",
       "211   3.41   11.49       17.79  \n",
       "212   0.00    6.29       43.13  \n",
       "213   2.94    9.17       21.31  \n",
       "214   0.00   19.07       15.39  \n",
       "\n",
       "[215 rows x 10 columns]"
      ]
     },
     "execution_count": 2,
     "metadata": {},
     "output_type": "execute_result"
    }
   ],
   "source": [
    "data = pd.read_excel('Course 1 Final Assessment.xlsx', sheet_name = 'Original Data')\n",
    "data_original = data.drop(columns=['Code', 'Unnamed: 11']).round(2)\n",
    "data_original"
   ]
  },
  {
   "cell_type": "markdown",
   "id": "b97092f4",
   "metadata": {},
   "source": [
    "Table 2 Statistical information of 215 investment funds"
   ]
  },
  {
   "cell_type": "code",
   "execution_count": 3,
   "id": "ee5e7365",
   "metadata": {
    "hide_input": true
   },
   "outputs": [
    {
     "data": {
      "text/html": [
       "<div>\n",
       "<style scoped>\n",
       "    .dataframe tbody tr th:only-of-type {\n",
       "        vertical-align: middle;\n",
       "    }\n",
       "\n",
       "    .dataframe tbody tr th {\n",
       "        vertical-align: top;\n",
       "    }\n",
       "\n",
       "    .dataframe thead th {\n",
       "        text-align: right;\n",
       "    }\n",
       "</style>\n",
       "<table border=\"1\" class=\"dataframe\">\n",
       "  <thead>\n",
       "    <tr style=\"text-align: right;\">\n",
       "      <th></th>\n",
       "      <th>SIZE</th>\n",
       "      <th>Return</th>\n",
       "      <th>consumer</th>\n",
       "      <th>financial</th>\n",
       "      <th>industrials</th>\n",
       "      <th>healthcare</th>\n",
       "      <th>utilities</th>\n",
       "      <th>f &amp; b</th>\n",
       "      <th>energy</th>\n",
       "      <th>technology</th>\n",
       "    </tr>\n",
       "  </thead>\n",
       "  <tbody>\n",
       "    <tr>\n",
       "      <th>mean</th>\n",
       "      <td>9.13</td>\n",
       "      <td>4.77</td>\n",
       "      <td>18.53</td>\n",
       "      <td>13.47</td>\n",
       "      <td>9.76</td>\n",
       "      <td>13.77</td>\n",
       "      <td>9.74</td>\n",
       "      <td>4.20</td>\n",
       "      <td>11.85</td>\n",
       "      <td>18.69</td>\n",
       "    </tr>\n",
       "    <tr>\n",
       "      <th>std</th>\n",
       "      <td>5.21</td>\n",
       "      <td>6.95</td>\n",
       "      <td>10.60</td>\n",
       "      <td>11.10</td>\n",
       "      <td>7.42</td>\n",
       "      <td>9.62</td>\n",
       "      <td>11.35</td>\n",
       "      <td>6.02</td>\n",
       "      <td>7.83</td>\n",
       "      <td>12.17</td>\n",
       "    </tr>\n",
       "    <tr>\n",
       "      <th>min</th>\n",
       "      <td>4.07</td>\n",
       "      <td>-15.13</td>\n",
       "      <td>0.00</td>\n",
       "      <td>-0.51</td>\n",
       "      <td>0.00</td>\n",
       "      <td>0.00</td>\n",
       "      <td>0.00</td>\n",
       "      <td>0.00</td>\n",
       "      <td>0.00</td>\n",
       "      <td>0.00</td>\n",
       "    </tr>\n",
       "    <tr>\n",
       "      <th>max</th>\n",
       "      <td>26.96</td>\n",
       "      <td>21.69</td>\n",
       "      <td>100.00</td>\n",
       "      <td>97.80</td>\n",
       "      <td>50.33</td>\n",
       "      <td>71.94</td>\n",
       "      <td>75.37</td>\n",
       "      <td>40.91</td>\n",
       "      <td>71.34</td>\n",
       "      <td>91.57</td>\n",
       "    </tr>\n",
       "  </tbody>\n",
       "</table>\n",
       "</div>"
      ],
      "text/plain": [
       "       SIZE  Return  consumer  financial  industrials  healthcare  utilities  \\\n",
       "mean   9.13    4.77     18.53      13.47         9.76       13.77       9.74   \n",
       "std    5.21    6.95     10.60      11.10         7.42        9.62      11.35   \n",
       "min    4.07  -15.13      0.00      -0.51         0.00        0.00       0.00   \n",
       "max   26.96   21.69    100.00      97.80        50.33       71.94      75.37   \n",
       "\n",
       "      f & b  energy  technology  \n",
       "mean   4.20   11.85       18.69  \n",
       "std    6.02    7.83       12.17  \n",
       "min    0.00    0.00        0.00  \n",
       "max   40.91   71.34       91.57  "
      ]
     },
     "execution_count": 3,
     "metadata": {},
     "output_type": "execute_result"
    }
   ],
   "source": [
    "stat_original = data_original.describe().drop(['count', '25%','50%', '75%']).round(2)\n",
    "stat_original"
   ]
  },
  {
   "cell_type": "markdown",
   "id": "338c609f",
   "metadata": {},
   "source": [
    "**Investment funds vary in AUM size from 4.07 to 26.96 $bn.**\n",
    "\n",
    "2. Further analysis is carried out for the 50 largest \"Big50\" and 50 smallest \"Small50\" investment funds."
   ]
  },
  {
   "cell_type": "markdown",
   "id": "ca27ed9b",
   "metadata": {},
   "source": [
    "Table 3 Statistical information about the Big50 fund"
   ]
  },
  {
   "cell_type": "code",
   "execution_count": 4,
   "id": "0d289640",
   "metadata": {
    "hide_input": true
   },
   "outputs": [],
   "source": [
    "data = pd.read_excel('Course 1 Final Assessment.xlsx', sheet_name = 'Big50')\n",
    "data_big50 = data.drop(columns=['BIG50', 'Unnamed: 11']).round(2)\n",
    "# data_big50"
   ]
  },
  {
   "cell_type": "code",
   "execution_count": 5,
   "id": "788c21ba",
   "metadata": {
    "hide_input": true
   },
   "outputs": [
    {
     "data": {
      "text/html": [
       "<div>\n",
       "<style scoped>\n",
       "    .dataframe tbody tr th:only-of-type {\n",
       "        vertical-align: middle;\n",
       "    }\n",
       "\n",
       "    .dataframe tbody tr th {\n",
       "        vertical-align: top;\n",
       "    }\n",
       "\n",
       "    .dataframe thead th {\n",
       "        text-align: right;\n",
       "    }\n",
       "</style>\n",
       "<table border=\"1\" class=\"dataframe\">\n",
       "  <thead>\n",
       "    <tr style=\"text-align: right;\">\n",
       "      <th></th>\n",
       "      <th>SIZE</th>\n",
       "      <th>Return</th>\n",
       "      <th>consumer</th>\n",
       "      <th>financial</th>\n",
       "      <th>industrials</th>\n",
       "      <th>healthcare</th>\n",
       "      <th>utilities</th>\n",
       "      <th>f &amp; b</th>\n",
       "      <th>energy</th>\n",
       "      <th>technology</th>\n",
       "    </tr>\n",
       "  </thead>\n",
       "  <tbody>\n",
       "    <tr>\n",
       "      <th>mean</th>\n",
       "      <td>17.24</td>\n",
       "      <td>4.92</td>\n",
       "      <td>19.94</td>\n",
       "      <td>14.02</td>\n",
       "      <td>9.33</td>\n",
       "      <td>15.63</td>\n",
       "      <td>8.25</td>\n",
       "      <td>3.74</td>\n",
       "      <td>11.88</td>\n",
       "      <td>17.21</td>\n",
       "    </tr>\n",
       "    <tr>\n",
       "      <th>std</th>\n",
       "      <td>4.01</td>\n",
       "      <td>6.29</td>\n",
       "      <td>12.78</td>\n",
       "      <td>6.45</td>\n",
       "      <td>5.31</td>\n",
       "      <td>11.72</td>\n",
       "      <td>5.55</td>\n",
       "      <td>4.54</td>\n",
       "      <td>6.06</td>\n",
       "      <td>9.72</td>\n",
       "    </tr>\n",
       "    <tr>\n",
       "      <th>min</th>\n",
       "      <td>11.72</td>\n",
       "      <td>-14.68</td>\n",
       "      <td>0.00</td>\n",
       "      <td>0.00</td>\n",
       "      <td>0.00</td>\n",
       "      <td>0.00</td>\n",
       "      <td>0.00</td>\n",
       "      <td>0.00</td>\n",
       "      <td>0.00</td>\n",
       "      <td>0.00</td>\n",
       "    </tr>\n",
       "    <tr>\n",
       "      <th>max</th>\n",
       "      <td>26.96</td>\n",
       "      <td>17.45</td>\n",
       "      <td>84.23</td>\n",
       "      <td>28.52</td>\n",
       "      <td>20.77</td>\n",
       "      <td>71.94</td>\n",
       "      <td>18.61</td>\n",
       "      <td>26.80</td>\n",
       "      <td>38.78</td>\n",
       "      <td>36.30</td>\n",
       "    </tr>\n",
       "  </tbody>\n",
       "</table>\n",
       "</div>"
      ],
      "text/plain": [
       "       SIZE  Return  consumer  financial  industrials  healthcare  utilities  \\\n",
       "mean  17.24    4.92     19.94      14.02         9.33       15.63       8.25   \n",
       "std    4.01    6.29     12.78       6.45         5.31       11.72       5.55   \n",
       "min   11.72  -14.68      0.00       0.00         0.00        0.00       0.00   \n",
       "max   26.96   17.45     84.23      28.52        20.77       71.94      18.61   \n",
       "\n",
       "      f & b  energy  technology  \n",
       "mean   3.74   11.88       17.21  \n",
       "std    4.54    6.06        9.72  \n",
       "min    0.00    0.00        0.00  \n",
       "max   26.80   38.78       36.30  "
      ]
     },
     "execution_count": 5,
     "metadata": {},
     "output_type": "execute_result"
    }
   ],
   "source": [
    "stat_big50 = data_big50.describe().drop(['count', '25%','50%', '75%']).round(2)\n",
    "stat_big50"
   ]
  },
  {
   "cell_type": "markdown",
   "id": "c590899c",
   "metadata": {},
   "source": [
    "The average return of the Big50 fund is 4.92%.\n",
    "\n",
    "With 95% probability, the confidence interval is closest to 3.18-6.66%."
   ]
  },
  {
   "cell_type": "markdown",
   "id": "b2444ec4",
   "metadata": {},
   "source": [
    "Table 4 Statistical information about the Small50 fund"
   ]
  },
  {
   "cell_type": "code",
   "execution_count": 6,
   "id": "98351092",
   "metadata": {
    "hide_input": true
   },
   "outputs": [],
   "source": [
    "data = pd.read_excel('Course 1 Final Assessment.xlsx', sheet_name = 'Small50')\n",
    "data_small50 = data.drop(columns=['SMALL50', 'Unnamed: 11', 'Unnamed: 12', 'Unnamed: 13', 'Unnamed: 14', 'Hist']).round(2)\n",
    "# data_small50"
   ]
  },
  {
   "cell_type": "code",
   "execution_count": 7,
   "id": "7da3cd6e",
   "metadata": {
    "hide_input": true
   },
   "outputs": [
    {
     "data": {
      "text/html": [
       "<div>\n",
       "<style scoped>\n",
       "    .dataframe tbody tr th:only-of-type {\n",
       "        vertical-align: middle;\n",
       "    }\n",
       "\n",
       "    .dataframe tbody tr th {\n",
       "        vertical-align: top;\n",
       "    }\n",
       "\n",
       "    .dataframe thead th {\n",
       "        text-align: right;\n",
       "    }\n",
       "</style>\n",
       "<table border=\"1\" class=\"dataframe\">\n",
       "  <thead>\n",
       "    <tr style=\"text-align: right;\">\n",
       "      <th></th>\n",
       "      <th>SIZE</th>\n",
       "      <th>Return</th>\n",
       "      <th>consumer</th>\n",
       "      <th>financial</th>\n",
       "      <th>industrials</th>\n",
       "      <th>healthcare</th>\n",
       "      <th>utilities</th>\n",
       "      <th>f &amp; b</th>\n",
       "      <th>energy</th>\n",
       "      <th>technology</th>\n",
       "    </tr>\n",
       "  </thead>\n",
       "  <tbody>\n",
       "    <tr>\n",
       "      <th>mean</th>\n",
       "      <td>4.51</td>\n",
       "      <td>4.28</td>\n",
       "      <td>19.04</td>\n",
       "      <td>12.30</td>\n",
       "      <td>10.59</td>\n",
       "      <td>12.01</td>\n",
       "      <td>17.61</td>\n",
       "      <td>3.48</td>\n",
       "      <td>12.81</td>\n",
       "      <td>12.16</td>\n",
       "    </tr>\n",
       "    <tr>\n",
       "      <th>std</th>\n",
       "      <td>0.27</td>\n",
       "      <td>6.01</td>\n",
       "      <td>7.37</td>\n",
       "      <td>6.56</td>\n",
       "      <td>8.67</td>\n",
       "      <td>6.92</td>\n",
       "      <td>11.94</td>\n",
       "      <td>5.95</td>\n",
       "      <td>9.82</td>\n",
       "      <td>9.42</td>\n",
       "    </tr>\n",
       "    <tr>\n",
       "      <th>min</th>\n",
       "      <td>4.07</td>\n",
       "      <td>-11.09</td>\n",
       "      <td>0.00</td>\n",
       "      <td>0.00</td>\n",
       "      <td>0.00</td>\n",
       "      <td>0.00</td>\n",
       "      <td>8.00</td>\n",
       "      <td>0.00</td>\n",
       "      <td>0.00</td>\n",
       "      <td>-0.19</td>\n",
       "    </tr>\n",
       "    <tr>\n",
       "      <th>max</th>\n",
       "      <td>5.03</td>\n",
       "      <td>16.69</td>\n",
       "      <td>44.84</td>\n",
       "      <td>26.91</td>\n",
       "      <td>45.83</td>\n",
       "      <td>40.50</td>\n",
       "      <td>69.64</td>\n",
       "      <td>40.91</td>\n",
       "      <td>63.34</td>\n",
       "      <td>38.38</td>\n",
       "    </tr>\n",
       "  </tbody>\n",
       "</table>\n",
       "</div>"
      ],
      "text/plain": [
       "      SIZE  Return  consumer  financial  industrials  healthcare  utilities  \\\n",
       "mean  4.51    4.28     19.04      12.30        10.59       12.01      17.61   \n",
       "std   0.27    6.01      7.37       6.56         8.67        6.92      11.94   \n",
       "min   4.07  -11.09      0.00       0.00         0.00        0.00       8.00   \n",
       "max   5.03   16.69     44.84      26.91        45.83       40.50      69.64   \n",
       "\n",
       "      f & b  energy  technology  \n",
       "mean   3.48   12.81       12.16  \n",
       "std    5.95    9.82        9.42  \n",
       "min    0.00    0.00       -0.19  \n",
       "max   40.91   63.34       38.38  "
      ]
     },
     "execution_count": 7,
     "metadata": {},
     "output_type": "execute_result"
    }
   ],
   "source": [
    "stat_small50 = data_small50.describe().drop(['count', '25%', '50%', '75%']).round(2)\n",
    "stat_small50"
   ]
  },
  {
   "cell_type": "markdown",
   "id": "6d327eca",
   "metadata": {},
   "source": [
    "The average return of the Small50 fund is 4.28%.\n",
    "\n",
    "With 95% probability, the confidence interval is closest to 2.61-5.95%.\n",
    "\n",
    "The average return of the Big50 fund is greater than that of the Small50 fund.\n",
    "\n",
    "**Investing in Big50 fund is more profitable than investing in Small50 fund.**"
   ]
  },
  {
   "cell_type": "markdown",
   "id": "6426b65a",
   "metadata": {},
   "source": [
    "The coefficient of variation (std/mean) of the Big50 fund is 1.28 and for the Small50 fund is 1.41.\n",
    "\n",
    "**Investing in Big50 fund is safer than in Small50 fund on a risk–return basis.**"
   ]
  },
  {
   "cell_type": "markdown",
   "id": "9595b0b5",
   "metadata": {},
   "source": [
    "3. Let's determine if there is any significant difference between the weighting factors of the Big50 fund sectors compared to the Small50 fund."
   ]
  },
  {
   "cell_type": "code",
   "execution_count": 8,
   "id": "68bc87c2",
   "metadata": {
    "hide_input": true
   },
   "outputs": [],
   "source": [
    "data_sector = pd.read_excel('Course 1 Final Assessment.xlsx',sheet_name='SectorX')\n",
    "# data_sector"
   ]
  },
  {
   "cell_type": "markdown",
   "id": "dab177ce",
   "metadata": {},
   "source": [
    "The pie chart showing the sector frequencies of the Big50 fund."
   ]
  },
  {
   "cell_type": "code",
   "execution_count": 9,
   "id": "db34f161",
   "metadata": {
    "hide_input": true
   },
   "outputs": [
    {
     "data": {
      "image/png": "[encoded data removed]",
      "text/plain": [
       "<Figure size 504x504 with 1 Axes>"
      ]
     },
     "metadata": {},
     "output_type": "display_data"
    }
   ],
   "source": [
    "sizes = data_sector['Big50']\n",
    "labels = data_sector['Sector']\n",
    "colors = ['blue', 'orange', 'green', 'red', 'purple', 'violet', 'brown', 'grey']\n",
    "\n",
    "plt.figure(figsize=(7, 7))\n",
    "plt.pie(sizes, labels=labels, colors=colors, autopct='%.2f%%')\n",
    "plt.title('Sector frequencies of the Big50 fund', fontsize=14)\n",
    "plt.show()"
   ]
  },
  {
   "cell_type": "markdown",
   "id": "f6d1afc0",
   "metadata": {
    "hide_input": true
   },
   "source": [
    "The tree map showing the sector frequencies of the Small50 fund."
   ]
  },
  {
   "cell_type": "code",
   "execution_count": 10,
   "id": "916aa681",
   "metadata": {
    "hide_input": true
   },
   "outputs": [
    {
     "data": {
      "image/png": "[encoded data removed]",
      "text/plain": [
       "<Figure size 504x360 with 1 Axes>"
      ]
     },
     "metadata": {
      "needs_background": "light"
     },
     "output_type": "display_data"
    }
   ],
   "source": [
    "sizes = data_sector['Small50']\n",
    "labels = data_sector['Sector']\n",
    "colors = ['blue', 'orange', 'green', 'red', 'purple', 'violet', 'brown', 'grey']\n",
    "\n",
    "plt.figure(figsize=(7, 5))\n",
    "squarify.plot(sizes=sizes, label=labels, value=[f'{x}%' for x in sizes], color=colors)\n",
    "plt.title('Sector frequencies of the Small50 fund', fontsize=14)\n",
    "plt.show()"
   ]
  },
  {
   "cell_type": "markdown",
   "id": "306b03d0",
   "metadata": {},
   "source": [
    "**Both funds invest in all sectors.**"
   ]
  },
  {
   "cell_type": "markdown",
   "id": "00c0b062",
   "metadata": {},
   "source": [
    "4. The contingency table shows the frequencies of the Big50 and Small50 fund sectors, as well as the differences between them."
   ]
  },
  {
   "cell_type": "markdown",
   "id": "7246ce37",
   "metadata": {},
   "source": [
    "Table 5 Contingency table"
   ]
  },
  {
   "cell_type": "code",
   "execution_count": 11,
   "id": "18773399",
   "metadata": {
    "hide_input": true
   },
   "outputs": [
    {
     "data": {
      "text/html": [
       "<div>\n",
       "<style scoped>\n",
       "    .dataframe tbody tr th:only-of-type {\n",
       "        vertical-align: middle;\n",
       "    }\n",
       "\n",
       "    .dataframe tbody tr th {\n",
       "        vertical-align: top;\n",
       "    }\n",
       "\n",
       "    .dataframe thead th {\n",
       "        text-align: right;\n",
       "    }\n",
       "</style>\n",
       "<table border=\"1\" class=\"dataframe\">\n",
       "  <thead>\n",
       "    <tr style=\"text-align: right;\">\n",
       "      <th></th>\n",
       "      <th>consumer</th>\n",
       "      <th>financial</th>\n",
       "      <th>industrials</th>\n",
       "      <th>healthcare</th>\n",
       "      <th>utilities</th>\n",
       "      <th>f &amp; b</th>\n",
       "      <th>energy</th>\n",
       "      <th>technology</th>\n",
       "    </tr>\n",
       "  </thead>\n",
       "  <tbody>\n",
       "    <tr>\n",
       "      <th>Big50</th>\n",
       "      <td>19.94</td>\n",
       "      <td>14.02</td>\n",
       "      <td>9.33</td>\n",
       "      <td>15.63</td>\n",
       "      <td>8.25</td>\n",
       "      <td>3.74</td>\n",
       "      <td>11.88</td>\n",
       "      <td>17.21</td>\n",
       "    </tr>\n",
       "    <tr>\n",
       "      <th>Small50</th>\n",
       "      <td>19.04</td>\n",
       "      <td>12.30</td>\n",
       "      <td>10.59</td>\n",
       "      <td>12.01</td>\n",
       "      <td>17.61</td>\n",
       "      <td>3.48</td>\n",
       "      <td>12.81</td>\n",
       "      <td>12.16</td>\n",
       "    </tr>\n",
       "    <tr>\n",
       "      <th>Big50 - Small50</th>\n",
       "      <td>0.90</td>\n",
       "      <td>1.72</td>\n",
       "      <td>-1.26</td>\n",
       "      <td>3.62</td>\n",
       "      <td>-9.36</td>\n",
       "      <td>0.26</td>\n",
       "      <td>-0.93</td>\n",
       "      <td>5.05</td>\n",
       "    </tr>\n",
       "  </tbody>\n",
       "</table>\n",
       "</div>"
      ],
      "text/plain": [
       "                 consumer  financial  industrials  healthcare  utilities  \\\n",
       "Big50               19.94      14.02         9.33       15.63       8.25   \n",
       "Small50             19.04      12.30        10.59       12.01      17.61   \n",
       "Big50 - Small50      0.90       1.72        -1.26        3.62      -9.36   \n",
       "\n",
       "                 f & b  energy  technology  \n",
       "Big50             3.74   11.88       17.21  \n",
       "Small50           3.48   12.81       12.16  \n",
       "Big50 - Small50   0.26   -0.93        5.05  "
      ]
     },
     "execution_count": 11,
     "metadata": {},
     "output_type": "execute_result"
    }
   ],
   "source": [
    "cont_table = pd.DataFrame(stat_big50.loc[:'mean', 'consumer':].rename(index={'mean':'Big50'}))\n",
    "cont_table = cont_table.append(pd.DataFrame(stat_small50.loc[:'mean', 'consumer':].rename(index={'mean':'Small50'})))\n",
    "cont_table = cont_table.append(pd.DataFrame(stat_big50.loc[:'mean', 'consumer':]) - \n",
    "                               pd.DataFrame(stat_small50.loc[:'mean', 'consumer':])).rename(index={'mean':'Big50 - Small50'})\n",
    "cont_table                                 "
   ]
  },
  {
   "cell_type": "markdown",
   "id": "c0c258db",
   "metadata": {},
   "source": [
    "**The average allocation of the Big50 fund by sector exceeds the Small50 fund in healthcare and technology, significantly inferior in utilities.**"
   ]
  },
  {
   "cell_type": "markdown",
   "id": "440c59bb",
   "metadata": {},
   "source": [
    "5. Conclusions:\n",
    "\n",
    " 1. Investing in Big50 fund is more profitable than investing in Small50 fund.\n",
    "\n",
    " 2. Investing in Big50 fund is safer than in Small50 fund on a risk–return basis.\n",
    "\n",
    " 3. Both funds invest in all sectors.\n",
    "\n",
    " 4. The average allocation of the Big50 fund by sector exceeds the Small50 fund in healthcare and technology, significantly inferior in utilities."
   ]
  }
 ],
 "metadata": {
  "kernelspec": {
   "display_name": "Python 3 (ipykernel)",
   "language": "python",
   "name": "python3"
  },
  "language_info": {
   "codemirror_mode": {
    "name": "ipython",
    "version": 3
   },
   "file_extension": ".py",
   "mimetype": "text/x-python",
   "name": "python",
   "nbconvert_exporter": "python",
   "pygments_lexer": "ipython3",
   "version": "3.9.7"
  },
  "varInspector": {
   "cols": {
    "lenName": 16,
    "lenType": 16,
    "lenVar": 40
   },
   "kernels_config": {
    "python": {
     "delete_cmd_postfix": "",
     "delete_cmd_prefix": "del ",
     "library": "var_list.py",
     "varRefreshCmd": "print(var_dic_list())"
    },
    "r": {
     "delete_cmd_postfix": ") ",
     "delete_cmd_prefix": "rm(",
     "library": "var_list.r",
     "varRefreshCmd": "cat(var_dic_list()) "
    }
   },
   "types_to_exclude": [
    "module",
    "function",
    "builtin_function_or_method",
    "instance",
    "_Feature"
   ],
   "window_display": false
  }
 },
 "nbformat": 4,
 "nbformat_minor": 5
}
